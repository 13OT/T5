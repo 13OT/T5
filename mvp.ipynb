{
 "cells": [
  {
   "cell_type": "code",
   "execution_count": 3,
   "metadata": {},
   "outputs": [],
   "source": [
    "import pandas as pd\n",
    "import re\n",
    "import gensim\n",
    "from nltk.stem import WordNetLemmatizer\n",
    "\n",
    "punctuation = '!\"$%&\\'()*+,-./:;<=>?[\\\\]^_`{|}~•@'         # define a string of punctuation symbols\n",
    "\n",
    "# Functions to clean tweets\n",
    "def remove_links(tweet):\n",
    "    \"\"\"Takes a string and removes web links from it\"\"\"\n",
    "    tweet = re.sub(r'http\\S+', '', tweet)   # remove http links\n",
    "    tweet = re.sub(r'bit.ly/\\S+', '', tweet)  # remove bitly links\n",
    "    tweet = tweet.strip('[link]')   # remove [links]\n",
    "    tweet = re.sub(r'pic.twitter\\S+','', tweet)\n",
    "    return tweet\n",
    "\n",
    "def remove_users(tweet):\n",
    "    \"\"\"Takes a string and removes retweet and @user information\"\"\"\n",
    "    tweet = re.sub('(RT\\s@[A-Za-z]+[A-Za-z0-9-_]+)', '', tweet)  # remove re-tweet\n",
    "    tweet = re.sub('(@[A-Za-z]+[A-Za-z0-9-_]+)', '', tweet)  # remove tweeted at\n",
    "    return tweet\n",
    "\n",
    "def remove_hashtags(tweet):\n",
    "    \"\"\"Takes a string and removes any hash tags\"\"\"\n",
    "    tweet = re.sub('(#[A-Za-z]+[A-Za-z0-9-_]+)', '', tweet)  # remove hash tags\n",
    "    return tweet\n",
    "\n",
    "def remove_av(tweet):\n",
    "    \"\"\"Takes a string and removes AUDIO/VIDEO tags or labels\"\"\"\n",
    "    tweet = re.sub('VIDEO:', '', tweet)  # remove 'VIDEO:' from start of tweet\n",
    "    tweet = re.sub('AUDIO:', '', tweet)  # remove 'AUDIO:' from start of tweet\n",
    "    return tweet\n",
    "\n",
    "def tokenize(tweet):\n",
    "    \"\"\"Returns tokenized representation of words in lemma form excluding stopwords\"\"\"\n",
    "    result = []\n",
    "    for token in gensim.utils.simple_preprocess(tweet):\n",
    "        if token not in gensim.parsing.preprocessing.STOPWORDS \\\n",
    "                and len(token) > 2:  # drops words with less than 3 characters\n",
    "            result.append(lemmatize(token))\n",
    "    return result\n",
    "\n",
    "def lemmatize(token):\n",
    "    \"\"\"Returns lemmatization of a token\"\"\"\n",
    "    return WordNetLemmatizer().lemmatize(token, pos='v')\n",
    "\n",
    "def preprocess_tweet(tweet):\n",
    "    \"\"\"Main master function to clean tweets, stripping noisy characters, and tokenizing use lemmatization\"\"\"\n",
    "    tweet = remove_users(tweet)\n",
    "    tweet = remove_links(tweet)\n",
    "    tweet = remove_hashtags(tweet)\n",
    "    tweet = remove_av(tweet)\n",
    "    tweet = tweet.lower()  # lower case\n",
    "    tweet = re.sub('[' + punctuation + ']+', ' ', tweet)  # strip punctuation\n",
    "    tweet = re.sub('\\s+', ' ', tweet)  # remove double spacing\n",
    "    tweet = re.sub('([0-9]+)', '', tweet)  # remove numbers\n",
    "    tweet_token_list = tokenize(tweet)  # apply lemmatization and tokenization\n",
    "    tweet = ' '.join(tweet_token_list)\n",
    "    return tweet\n",
    "\n",
    "def basic_clean(tweet):\n",
    "    \"\"\"Main master function to clean tweets only without tokenization or removal of stopwords\"\"\"\n",
    "    tweet = remove_users(tweet)\n",
    "    tweet = remove_links(tweet)\n",
    "    tweet = remove_hashtags(tweet)\n",
    "    tweet = remove_av(tweet)\n",
    "    tweet = tweet.lower()  # lower case\n",
    "    tweet = re.sub('[' + punctuation + ']+', ' ', tweet)  # strip punctuation\n",
    "    tweet = re.sub('\\s+', ' ', tweet)  # remove double spacing\n",
    "    tweet = re.sub('([0-9]+)', '', tweet)  # remove numbers\n",
    "    tweet = re.sub('📝 …', '', tweet)\n",
    "    return tweet\n",
    "\n",
    "def tokenize_tweets(df):\n",
    "    \"\"\"Main function to read in and return cleaned and preprocessed dataframe.\n",
    "    This can be used in Jupyter notebooks by importing this module and calling the tokenize_tweets() function\n",
    "\n",
    "    Args:\n",
    "        df = data frame object to apply cleaning to\n",
    "\n",
    "    Returns:\n",
    "        pandas data frame with cleaned tokens\n",
    "    \"\"\"\n",
    "\n",
    "    df['tokens'] = df.text.apply(preprocess_tweet)\n",
    "    num_tweets = len(df)\n",
    "    print('Complete. Number of Tweets that have been cleaned and tokenized : {}'.format(num_tweets))\n",
    "    return df"
   ]
  },
  {
   "cell_type": "code",
   "execution_count": 4,
   "metadata": {},
   "outputs": [
    {
     "name": "stdout",
     "output_type": "stream",
     "text": [
      "[0.00760987 0.1458119  0.8465781 ]\n"
     ]
    }
   ],
   "source": [
    "from transformers import AutoModelForSequenceClassification\n",
    "from transformers import TFAutoModelForSequenceClassification\n",
    "from transformers import AutoTokenizer\n",
    "import numpy as np\n",
    "from scipy.special import softmax\n",
    "import csv\n",
    "import urllib.request\n",
    "\n",
    "# Preprocess text (username and link placeholders)\n",
    "def preprocess(text):\n",
    "    new_text = []\n",
    " \n",
    " \n",
    "    for t in text.split(\" \"):\n",
    "        t = '@user' if t.startswith('@') and len(t) > 1 else t\n",
    "        t = 'http' if t.startswith('http') else t\n",
    "        new_text.append(t)\n",
    "    return \" \".join(new_text)\n",
    "\n",
    "# Tasks:\n",
    "# emoji, emotion, hate, irony, offensive, sentiment\n",
    "# stance/abortion, stance/atheism, stance/climate, stance/feminist, stance/hillary\n",
    "\n",
    "task='sentiment'\n",
    "MODEL = f\"./twitter-roberta-base-sentiment\"\n",
    "\n",
    "tokenizer = AutoTokenizer.from_pretrained(MODEL)\n",
    "\n",
    "# download label mapping\n",
    "labels=[]\n",
    "mapping_link = f\"https://raw.githubusercontent.com/cardiffnlp/tweeteval/main/datasets/{task}/mapping.txt\"\n",
    "with urllib.request.urlopen(mapping_link) as f:\n",
    "    html = f.read().decode('utf-8').split(\"\\n\")\n",
    "    csvreader = csv.reader(html, delimiter='\\t')\n",
    "labels = [row[1] for row in csvreader if len(row) > 1]\n",
    "\n",
    "# PT\n",
    "model = AutoModelForSequenceClassification.from_pretrained(MODEL)\n",
    "model.save_pretrained(MODEL)\n",
    "\n",
    "\n",
    "\n",
    "\n"
   ]
  },
  {
   "cell_type": "code",
   "execution_count": 21,
   "metadata": {},
   "outputs": [],
   "source": [
    "def get_sentiment(text):\n",
    "    encoded_input = tokenizer(text, return_tensors='pt')\n",
    "    output = model(**encoded_input)\n",
    "    scores = output[0][0].detach().numpy()\n",
    "    scores = softmax(scores)\n",
    "    return scores\n"
   ]
  },
  {
   "cell_type": "code",
   "execution_count": 36,
   "metadata": {},
   "outputs": [],
   "source": [
    "df =pd.read_csv('1mo_tweet.csv',index_col=0)\n"
   ]
  },
  {
   "cell_type": "code",
   "execution_count": 37,
   "metadata": {},
   "outputs": [],
   "source": [
    "df.drop('polarity',axis= 1,inplace=True)"
   ]
  },
  {
   "cell_type": "code",
   "execution_count": 38,
   "metadata": {},
   "outputs": [],
   "source": [
    "df.timestamp = pd.to_datetime(df.timestamp)"
   ]
  },
  {
   "cell_type": "code",
   "execution_count": 39,
   "metadata": {},
   "outputs": [],
   "source": [
    "df['date'] = df.timestamp.apply(lambda time_s:  time_s.date)"
   ]
  },
  {
   "cell_type": "code",
   "execution_count": 40,
   "metadata": {},
   "outputs": [
    {
     "name": "stdout",
     "output_type": "stream",
     "text": [
      "Complete. Number of Tweets that have been cleaned and tokenized : 38087\n"
     ]
    }
   ],
   "source": [
    "df = tokenize_tweets(df)"
   ]
  },
  {
   "cell_type": "code",
   "execution_count": 41,
   "metadata": {},
   "outputs": [],
   "source": [
    "appiled_df = df.apply(lambda row: get_sentiment(row.tokens), axis='columns', result_type='expand')\n",
    "df = pd.concat([df, appiled_df], axis='columns')\n"
   ]
  },
  {
   "cell_type": "code",
   "execution_count": 120,
   "metadata": {},
   "outputs": [
    {
     "data": {
      "text/html": [
       "<div>\n",
       "<style scoped>\n",
       "    .dataframe tbody tr th:only-of-type {\n",
       "        vertical-align: middle;\n",
       "    }\n",
       "\n",
       "    .dataframe tbody tr th {\n",
       "        vertical-align: top;\n",
       "    }\n",
       "\n",
       "    .dataframe thead th {\n",
       "        text-align: right;\n",
       "    }\n",
       "</style>\n",
       "<table border=\"1\" class=\"dataframe\">\n",
       "  <thead>\n",
       "    <tr style=\"text-align: right;\">\n",
       "      <th></th>\n",
       "      <th>user</th>\n",
       "      <th>timestamp</th>\n",
       "      <th>replies</th>\n",
       "      <th>likes</th>\n",
       "      <th>retweets</th>\n",
       "      <th>text</th>\n",
       "      <th>date</th>\n",
       "      <th>tokens</th>\n",
       "      <th>0</th>\n",
       "      <th>1</th>\n",
       "      <th>2</th>\n",
       "    </tr>\n",
       "  </thead>\n",
       "  <tbody>\n",
       "    <tr>\n",
       "      <th>2374189</th>\n",
       "      <td>coinstats</td>\n",
       "      <td>2018-01-01 00:00:01+00:00</td>\n",
       "      <td>0.0</td>\n",
       "      <td>0.0</td>\n",
       "      <td>0.0</td>\n",
       "      <td>bitcoin - btc\\nprice: $13,941.10\\nchange in 1h...</td>\n",
       "      <td>2018-01-01</td>\n",
       "      <td>bitcoin btc price change market cap rank</td>\n",
       "      <td>0.091979</td>\n",
       "      <td>0.863309</td>\n",
       "      <td>0.044712</td>\n",
       "    </tr>\n",
       "    <tr>\n",
       "      <th>2374190</th>\n",
       "      <td>xp_jpy</td>\n",
       "      <td>2018-01-01 00:00:01+00:00</td>\n",
       "      <td>0.0</td>\n",
       "      <td>11.0</td>\n",
       "      <td>6.0</td>\n",
       "      <td>2018年01月01日 10:00\\n[doge建]\\n1xp=0.1561554円\\n24...</td>\n",
       "      <td>2018-01-01</td>\n",
       "      <td>年月日 doge建 時間の最高値 時間の最安値 btc建 時間の最高値 時間の最安値 時価総...</td>\n",
       "      <td>0.172065</td>\n",
       "      <td>0.794435</td>\n",
       "      <td>0.033499</td>\n",
       "    </tr>\n",
       "    <tr>\n",
       "      <th>2374188</th>\n",
       "      <td>asens_inc</td>\n",
       "      <td>2018-01-01 00:00:02+00:00</td>\n",
       "      <td>0.0</td>\n",
       "      <td>1.0</td>\n",
       "      <td>1.0</td>\n",
       "      <td>01/01 10:00現在\\n\\n#bitcoin : 1,662,700円↓\\n#nem ...</td>\n",
       "      <td>2018-01-01</td>\n",
       "      <td></td>\n",
       "      <td>0.258294</td>\n",
       "      <td>0.451272</td>\n",
       "      <td>0.290433</td>\n",
       "    </tr>\n",
       "    <tr>\n",
       "      <th>2374187</th>\n",
       "      <td>BitcoinCash_ES</td>\n",
       "      <td>2018-01-01 00:00:03+00:00</td>\n",
       "      <td>0.0</td>\n",
       "      <td>0.0</td>\n",
       "      <td>0.0</td>\n",
       "      <td>cotización del bitcoin cash: 2,046 10.€ | -0.7...</td>\n",
       "      <td>2018-01-01</td>\n",
       "      <td>cotización del bitcoin cash kraken</td>\n",
       "      <td>0.047913</td>\n",
       "      <td>0.877334</td>\n",
       "      <td>0.074753</td>\n",
       "    </tr>\n",
       "    <tr>\n",
       "      <th>2374186</th>\n",
       "      <td>crypto_paraguay</td>\n",
       "      <td>2018-01-01 00:00:03+00:00</td>\n",
       "      <td>0.0</td>\n",
       "      <td>0.0</td>\n",
       "      <td>0.0</td>\n",
       "      <td>cotizaciones al 31/12/2017 10:00 pm\\nbitcoin (...</td>\n",
       "      <td>2018-01-01</td>\n",
       "      <td>cotizaciones bitcoin btc ethereum eth litecoin...</td>\n",
       "      <td>0.032696</td>\n",
       "      <td>0.895348</td>\n",
       "      <td>0.071956</td>\n",
       "    </tr>\n",
       "    <tr>\n",
       "      <th>...</th>\n",
       "      <td>...</td>\n",
       "      <td>...</td>\n",
       "      <td>...</td>\n",
       "      <td>...</td>\n",
       "      <td>...</td>\n",
       "      <td>...</td>\n",
       "      <td>...</td>\n",
       "      <td>...</td>\n",
       "      <td>...</td>\n",
       "      <td>...</td>\n",
       "      <td>...</td>\n",
       "    </tr>\n",
       "    <tr>\n",
       "      <th>9638308</th>\n",
       "      <td>ResultDrivenPR</td>\n",
       "      <td>2018-01-31 23:51:19+00:00</td>\n",
       "      <td>2.0</td>\n",
       "      <td>0.0</td>\n",
       "      <td>1.0</td>\n",
       "      <td>one of the best ico’s coming up for so many re...</td>\n",
       "      <td>2018-01-31</td>\n",
       "      <td>best ico come reason judge</td>\n",
       "      <td>0.076694</td>\n",
       "      <td>0.826908</td>\n",
       "      <td>0.096398</td>\n",
       "    </tr>\n",
       "    <tr>\n",
       "      <th>16805435</th>\n",
       "      <td>AllColorsTV</td>\n",
       "      <td>2018-01-31 23:53:51+00:00</td>\n",
       "      <td>3.0</td>\n",
       "      <td>2.0</td>\n",
       "      <td>2.0</td>\n",
       "      <td>viberate is listing profiles of over 150,000 a...</td>\n",
       "      <td>2018-01-31</td>\n",
       "      <td>viberate list profile artists book agencies ve...</td>\n",
       "      <td>0.052302</td>\n",
       "      <td>0.875694</td>\n",
       "      <td>0.072004</td>\n",
       "    </tr>\n",
       "    <tr>\n",
       "      <th>2408552</th>\n",
       "      <td>coin_sight</td>\n",
       "      <td>2018-01-31 23:56:44+00:00</td>\n",
       "      <td>4.0</td>\n",
       "      <td>0.0</td>\n",
       "      <td>0.0</td>\n",
       "      <td>#btc average: 10220.91$\\n\\n#bitfinex - 10221.0...</td>\n",
       "      <td>2018-01-31</td>\n",
       "      <td>average</td>\n",
       "      <td>0.259744</td>\n",
       "      <td>0.534707</td>\n",
       "      <td>0.205548</td>\n",
       "    </tr>\n",
       "    <tr>\n",
       "      <th>2408528</th>\n",
       "      <td>coin_sight</td>\n",
       "      <td>2018-01-31 23:56:44+00:00</td>\n",
       "      <td>3.0</td>\n",
       "      <td>0.0</td>\n",
       "      <td>0.0</td>\n",
       "      <td>#cryptos: \\n\\n#btc 10232.40$ | 8243.62€\\n#xrp ...</td>\n",
       "      <td>2018-01-31</td>\n",
       "      <td></td>\n",
       "      <td>0.258294</td>\n",
       "      <td>0.451272</td>\n",
       "      <td>0.290433</td>\n",
       "    </tr>\n",
       "    <tr>\n",
       "      <th>2408502</th>\n",
       "      <td>btctickerbot</td>\n",
       "      <td>2018-01-31 23:59:51+00:00</td>\n",
       "      <td>0.0</td>\n",
       "      <td>0.0</td>\n",
       "      <td>0.0</td>\n",
       "      <td>btc price: 10212.00$, \\nbtc today high : 10367...</td>\n",
       "      <td>2018-01-31</td>\n",
       "      <td>btc price btc today high btc time high eth pri...</td>\n",
       "      <td>0.007613</td>\n",
       "      <td>0.710383</td>\n",
       "      <td>0.282004</td>\n",
       "    </tr>\n",
       "  </tbody>\n",
       "</table>\n",
       "<p>38087 rows × 11 columns</p>\n",
       "</div>"
      ],
      "text/plain": [
       "                     user                 timestamp  replies  likes  retweets  \\\n",
       "2374189         coinstats 2018-01-01 00:00:01+00:00      0.0    0.0       0.0   \n",
       "2374190            xp_jpy 2018-01-01 00:00:01+00:00      0.0   11.0       6.0   \n",
       "2374188         asens_inc 2018-01-01 00:00:02+00:00      0.0    1.0       1.0   \n",
       "2374187    BitcoinCash_ES 2018-01-01 00:00:03+00:00      0.0    0.0       0.0   \n",
       "2374186   crypto_paraguay 2018-01-01 00:00:03+00:00      0.0    0.0       0.0   \n",
       "...                   ...                       ...      ...    ...       ...   \n",
       "9638308    ResultDrivenPR 2018-01-31 23:51:19+00:00      2.0    0.0       1.0   \n",
       "16805435      AllColorsTV 2018-01-31 23:53:51+00:00      3.0    2.0       2.0   \n",
       "2408552        coin_sight 2018-01-31 23:56:44+00:00      4.0    0.0       0.0   \n",
       "2408528        coin_sight 2018-01-31 23:56:44+00:00      3.0    0.0       0.0   \n",
       "2408502      btctickerbot 2018-01-31 23:59:51+00:00      0.0    0.0       0.0   \n",
       "\n",
       "                                                       text        date  \\\n",
       "2374189   bitcoin - btc\\nprice: $13,941.10\\nchange in 1h...  2018-01-01   \n",
       "2374190   2018年01月01日 10:00\\n[doge建]\\n1xp=0.1561554円\\n24...  2018-01-01   \n",
       "2374188   01/01 10:00現在\\n\\n#bitcoin : 1,662,700円↓\\n#nem ...  2018-01-01   \n",
       "2374187   cotización del bitcoin cash: 2,046 10.€ | -0.7...  2018-01-01   \n",
       "2374186   cotizaciones al 31/12/2017 10:00 pm\\nbitcoin (...  2018-01-01   \n",
       "...                                                     ...         ...   \n",
       "9638308   one of the best ico’s coming up for so many re...  2018-01-31   \n",
       "16805435  viberate is listing profiles of over 150,000 a...  2018-01-31   \n",
       "2408552   #btc average: 10220.91$\\n\\n#bitfinex - 10221.0...  2018-01-31   \n",
       "2408528   #cryptos: \\n\\n#btc 10232.40$ | 8243.62€\\n#xrp ...  2018-01-31   \n",
       "2408502   btc price: 10212.00$, \\nbtc today high : 10367...  2018-01-31   \n",
       "\n",
       "                                                     tokens         0  \\\n",
       "2374189            bitcoin btc price change market cap rank  0.091979   \n",
       "2374190   年月日 doge建 時間の最高値 時間の最安値 btc建 時間の最高値 時間の最安値 時価総...  0.172065   \n",
       "2374188                                                      0.258294   \n",
       "2374187                  cotización del bitcoin cash kraken  0.047913   \n",
       "2374186   cotizaciones bitcoin btc ethereum eth litecoin...  0.032696   \n",
       "...                                                     ...       ...   \n",
       "9638308                          best ico come reason judge  0.076694   \n",
       "16805435  viberate list profile artists book agencies ve...  0.052302   \n",
       "2408552                                             average  0.259744   \n",
       "2408528                                                      0.258294   \n",
       "2408502   btc price btc today high btc time high eth pri...  0.007613   \n",
       "\n",
       "                 1         2  \n",
       "2374189   0.863309  0.044712  \n",
       "2374190   0.794435  0.033499  \n",
       "2374188   0.451272  0.290433  \n",
       "2374187   0.877334  0.074753  \n",
       "2374186   0.895348  0.071956  \n",
       "...            ...       ...  \n",
       "9638308   0.826908  0.096398  \n",
       "16805435  0.875694  0.072004  \n",
       "2408552   0.534707  0.205548  \n",
       "2408528   0.451272  0.290433  \n",
       "2408502   0.710383  0.282004  \n",
       "\n",
       "[38087 rows x 11 columns]"
      ]
     },
     "execution_count": 120,
     "metadata": {},
     "output_type": "execute_result"
    }
   ],
   "source": [
    "df2 = df.rename({df2.columns[8]: 'Negative', df2.columns[9]: 'Netural',df2.columns[10]: 'Positive'}, axis='columns')  # new method\n",
    "df"
   ]
  },
  {
   "cell_type": "code",
   "execution_count": 71,
   "metadata": {},
   "outputs": [
    {
     "data": {
      "text/html": [
       "<div>\n",
       "<style scoped>\n",
       "    .dataframe tbody tr th:only-of-type {\n",
       "        vertical-align: middle;\n",
       "    }\n",
       "\n",
       "    .dataframe tbody tr th {\n",
       "        vertical-align: top;\n",
       "    }\n",
       "\n",
       "    .dataframe thead th {\n",
       "        text-align: right;\n",
       "    }\n",
       "</style>\n",
       "<table border=\"1\" class=\"dataframe\">\n",
       "  <thead>\n",
       "    <tr style=\"text-align: right;\">\n",
       "      <th></th>\n",
       "      <th>user</th>\n",
       "      <th>timestamp</th>\n",
       "      <th>replies</th>\n",
       "      <th>likes</th>\n",
       "      <th>retweets</th>\n",
       "      <th>text</th>\n",
       "      <th>date</th>\n",
       "      <th>tokens</th>\n",
       "      <th>Negative</th>\n",
       "      <th>Netural</th>\n",
       "      <th>Positive</th>\n",
       "    </tr>\n",
       "  </thead>\n",
       "  <tbody>\n",
       "    <tr>\n",
       "      <th>2374189</th>\n",
       "      <td>coinstats</td>\n",
       "      <td>2018-01-01 00:00:01+00:00</td>\n",
       "      <td>0.0</td>\n",
       "      <td>0.0</td>\n",
       "      <td>0.0</td>\n",
       "      <td>bitcoin - btc\\nprice: $13,941.10\\nchange in 1h...</td>\n",
       "      <td>2018-01-01</td>\n",
       "      <td>bitcoin btc price change market cap rank</td>\n",
       "      <td>0.091979</td>\n",
       "      <td>0.863309</td>\n",
       "      <td>0.044712</td>\n",
       "    </tr>\n",
       "    <tr>\n",
       "      <th>2374190</th>\n",
       "      <td>xp_jpy</td>\n",
       "      <td>2018-01-01 00:00:01+00:00</td>\n",
       "      <td>0.0</td>\n",
       "      <td>11.0</td>\n",
       "      <td>6.0</td>\n",
       "      <td>2018年01月01日 10:00\\n[doge建]\\n1xp=0.1561554円\\n24...</td>\n",
       "      <td>2018-01-01</td>\n",
       "      <td>年月日 doge建 時間の最高値 時間の最安値 btc建 時間の最高値 時間の最安値 時価総...</td>\n",
       "      <td>0.172065</td>\n",
       "      <td>0.794435</td>\n",
       "      <td>0.033499</td>\n",
       "    </tr>\n",
       "    <tr>\n",
       "      <th>2374188</th>\n",
       "      <td>asens_inc</td>\n",
       "      <td>2018-01-01 00:00:02+00:00</td>\n",
       "      <td>0.0</td>\n",
       "      <td>1.0</td>\n",
       "      <td>1.0</td>\n",
       "      <td>01/01 10:00現在\\n\\n#bitcoin : 1,662,700円↓\\n#nem ...</td>\n",
       "      <td>2018-01-01</td>\n",
       "      <td></td>\n",
       "      <td>0.258294</td>\n",
       "      <td>0.451272</td>\n",
       "      <td>0.290433</td>\n",
       "    </tr>\n",
       "    <tr>\n",
       "      <th>2374187</th>\n",
       "      <td>BitcoinCash_ES</td>\n",
       "      <td>2018-01-01 00:00:03+00:00</td>\n",
       "      <td>0.0</td>\n",
       "      <td>0.0</td>\n",
       "      <td>0.0</td>\n",
       "      <td>cotización del bitcoin cash: 2,046 10.€ | -0.7...</td>\n",
       "      <td>2018-01-01</td>\n",
       "      <td>cotización del bitcoin cash kraken</td>\n",
       "      <td>0.047913</td>\n",
       "      <td>0.877334</td>\n",
       "      <td>0.074753</td>\n",
       "    </tr>\n",
       "    <tr>\n",
       "      <th>2374186</th>\n",
       "      <td>crypto_paraguay</td>\n",
       "      <td>2018-01-01 00:00:03+00:00</td>\n",
       "      <td>0.0</td>\n",
       "      <td>0.0</td>\n",
       "      <td>0.0</td>\n",
       "      <td>cotizaciones al 31/12/2017 10:00 pm\\nbitcoin (...</td>\n",
       "      <td>2018-01-01</td>\n",
       "      <td>cotizaciones bitcoin btc ethereum eth litecoin...</td>\n",
       "      <td>0.032696</td>\n",
       "      <td>0.895348</td>\n",
       "      <td>0.071956</td>\n",
       "    </tr>\n",
       "    <tr>\n",
       "      <th>...</th>\n",
       "      <td>...</td>\n",
       "      <td>...</td>\n",
       "      <td>...</td>\n",
       "      <td>...</td>\n",
       "      <td>...</td>\n",
       "      <td>...</td>\n",
       "      <td>...</td>\n",
       "      <td>...</td>\n",
       "      <td>...</td>\n",
       "      <td>...</td>\n",
       "      <td>...</td>\n",
       "    </tr>\n",
       "    <tr>\n",
       "      <th>9638308</th>\n",
       "      <td>ResultDrivenPR</td>\n",
       "      <td>2018-01-31 23:51:19+00:00</td>\n",
       "      <td>2.0</td>\n",
       "      <td>0.0</td>\n",
       "      <td>1.0</td>\n",
       "      <td>one of the best ico’s coming up for so many re...</td>\n",
       "      <td>2018-01-31</td>\n",
       "      <td>best ico come reason judge</td>\n",
       "      <td>0.076694</td>\n",
       "      <td>0.826908</td>\n",
       "      <td>0.096398</td>\n",
       "    </tr>\n",
       "    <tr>\n",
       "      <th>16805435</th>\n",
       "      <td>AllColorsTV</td>\n",
       "      <td>2018-01-31 23:53:51+00:00</td>\n",
       "      <td>3.0</td>\n",
       "      <td>2.0</td>\n",
       "      <td>2.0</td>\n",
       "      <td>viberate is listing profiles of over 150,000 a...</td>\n",
       "      <td>2018-01-31</td>\n",
       "      <td>viberate list profile artists book agencies ve...</td>\n",
       "      <td>0.052302</td>\n",
       "      <td>0.875694</td>\n",
       "      <td>0.072004</td>\n",
       "    </tr>\n",
       "    <tr>\n",
       "      <th>2408552</th>\n",
       "      <td>coin_sight</td>\n",
       "      <td>2018-01-31 23:56:44+00:00</td>\n",
       "      <td>4.0</td>\n",
       "      <td>0.0</td>\n",
       "      <td>0.0</td>\n",
       "      <td>#btc average: 10220.91$\\n\\n#bitfinex - 10221.0...</td>\n",
       "      <td>2018-01-31</td>\n",
       "      <td>average</td>\n",
       "      <td>0.259744</td>\n",
       "      <td>0.534707</td>\n",
       "      <td>0.205548</td>\n",
       "    </tr>\n",
       "    <tr>\n",
       "      <th>2408528</th>\n",
       "      <td>coin_sight</td>\n",
       "      <td>2018-01-31 23:56:44+00:00</td>\n",
       "      <td>3.0</td>\n",
       "      <td>0.0</td>\n",
       "      <td>0.0</td>\n",
       "      <td>#cryptos: \\n\\n#btc 10232.40$ | 8243.62€\\n#xrp ...</td>\n",
       "      <td>2018-01-31</td>\n",
       "      <td></td>\n",
       "      <td>0.258294</td>\n",
       "      <td>0.451272</td>\n",
       "      <td>0.290433</td>\n",
       "    </tr>\n",
       "    <tr>\n",
       "      <th>2408502</th>\n",
       "      <td>btctickerbot</td>\n",
       "      <td>2018-01-31 23:59:51+00:00</td>\n",
       "      <td>0.0</td>\n",
       "      <td>0.0</td>\n",
       "      <td>0.0</td>\n",
       "      <td>btc price: 10212.00$, \\nbtc today high : 10367...</td>\n",
       "      <td>2018-01-31</td>\n",
       "      <td>btc price btc today high btc time high eth pri...</td>\n",
       "      <td>0.007613</td>\n",
       "      <td>0.710383</td>\n",
       "      <td>0.282004</td>\n",
       "    </tr>\n",
       "  </tbody>\n",
       "</table>\n",
       "<p>38087 rows × 11 columns</p>\n",
       "</div>"
      ],
      "text/plain": [
       "                     user                 timestamp  replies  likes  retweets  \\\n",
       "2374189         coinstats 2018-01-01 00:00:01+00:00      0.0    0.0       0.0   \n",
       "2374190            xp_jpy 2018-01-01 00:00:01+00:00      0.0   11.0       6.0   \n",
       "2374188         asens_inc 2018-01-01 00:00:02+00:00      0.0    1.0       1.0   \n",
       "2374187    BitcoinCash_ES 2018-01-01 00:00:03+00:00      0.0    0.0       0.0   \n",
       "2374186   crypto_paraguay 2018-01-01 00:00:03+00:00      0.0    0.0       0.0   \n",
       "...                   ...                       ...      ...    ...       ...   \n",
       "9638308    ResultDrivenPR 2018-01-31 23:51:19+00:00      2.0    0.0       1.0   \n",
       "16805435      AllColorsTV 2018-01-31 23:53:51+00:00      3.0    2.0       2.0   \n",
       "2408552        coin_sight 2018-01-31 23:56:44+00:00      4.0    0.0       0.0   \n",
       "2408528        coin_sight 2018-01-31 23:56:44+00:00      3.0    0.0       0.0   \n",
       "2408502      btctickerbot 2018-01-31 23:59:51+00:00      0.0    0.0       0.0   \n",
       "\n",
       "                                                       text        date  \\\n",
       "2374189   bitcoin - btc\\nprice: $13,941.10\\nchange in 1h...  2018-01-01   \n",
       "2374190   2018年01月01日 10:00\\n[doge建]\\n1xp=0.1561554円\\n24...  2018-01-01   \n",
       "2374188   01/01 10:00現在\\n\\n#bitcoin : 1,662,700円↓\\n#nem ...  2018-01-01   \n",
       "2374187   cotización del bitcoin cash: 2,046 10.€ | -0.7...  2018-01-01   \n",
       "2374186   cotizaciones al 31/12/2017 10:00 pm\\nbitcoin (...  2018-01-01   \n",
       "...                                                     ...         ...   \n",
       "9638308   one of the best ico’s coming up for so many re...  2018-01-31   \n",
       "16805435  viberate is listing profiles of over 150,000 a...  2018-01-31   \n",
       "2408552   #btc average: 10220.91$\\n\\n#bitfinex - 10221.0...  2018-01-31   \n",
       "2408528   #cryptos: \\n\\n#btc 10232.40$ | 8243.62€\\n#xrp ...  2018-01-31   \n",
       "2408502   btc price: 10212.00$, \\nbtc today high : 10367...  2018-01-31   \n",
       "\n",
       "                                                     tokens  Negative  \\\n",
       "2374189            bitcoin btc price change market cap rank  0.091979   \n",
       "2374190   年月日 doge建 時間の最高値 時間の最安値 btc建 時間の最高値 時間の最安値 時価総...  0.172065   \n",
       "2374188                                                      0.258294   \n",
       "2374187                  cotización del bitcoin cash kraken  0.047913   \n",
       "2374186   cotizaciones bitcoin btc ethereum eth litecoin...  0.032696   \n",
       "...                                                     ...       ...   \n",
       "9638308                          best ico come reason judge  0.076694   \n",
       "16805435  viberate list profile artists book agencies ve...  0.052302   \n",
       "2408552                                             average  0.259744   \n",
       "2408528                                                      0.258294   \n",
       "2408502   btc price btc today high btc time high eth pri...  0.007613   \n",
       "\n",
       "           Netural  Positive  \n",
       "2374189   0.863309  0.044712  \n",
       "2374190   0.794435  0.033499  \n",
       "2374188   0.451272  0.290433  \n",
       "2374187   0.877334  0.074753  \n",
       "2374186   0.895348  0.071956  \n",
       "...            ...       ...  \n",
       "9638308   0.826908  0.096398  \n",
       "16805435  0.875694  0.072004  \n",
       "2408552   0.534707  0.205548  \n",
       "2408528   0.451272  0.290433  \n",
       "2408502   0.710383  0.282004  \n",
       "\n",
       "[38087 rows x 11 columns]"
      ]
     },
     "execution_count": 71,
     "metadata": {},
     "output_type": "execute_result"
    }
   ],
   "source": [
    "import seaborn as sns\n",
    "df2"
   ]
  },
  {
   "cell_type": "code",
   "execution_count": 72,
   "metadata": {},
   "outputs": [
    {
     "data": {
      "text/plain": [
       "<seaborn.axisgrid.PairGrid at 0x25d3b9b9970>"
      ]
     },
     "execution_count": 72,
     "metadata": {},
     "output_type": "execute_result"
    },
    {
     "data": {
      "image/png": "[encoded data removed]",
      "text/plain": [
       "<Figure size 1080x1080 with 42 Axes>"
      ]
     },
     "metadata": {
      "needs_background": "light"
     },
     "output_type": "display_data"
    }
   ],
   "source": [
    "sns.pairplot(df2)"
   ]
  },
  {
   "cell_type": "code",
   "execution_count": 73,
   "metadata": {},
   "outputs": [
    {
     "name": "stdout",
     "output_type": "stream",
     "text": [
      "<class 'pandas.core.frame.DataFrame'>\n",
      "Int64Index: 38087 entries, 2374189 to 2408502\n",
      "Data columns (total 11 columns):\n",
      " #   Column     Non-Null Count  Dtype              \n",
      "---  ------     --------------  -----              \n",
      " 0   user       38087 non-null  object             \n",
      " 1   timestamp  38087 non-null  datetime64[ns, UTC]\n",
      " 2   replies    38087 non-null  float64            \n",
      " 3   likes      38087 non-null  float64            \n",
      " 4   retweets   38087 non-null  float64            \n",
      " 5   text       38087 non-null  object             \n",
      " 6   date       38087 non-null  object             \n",
      " 7   tokens     38087 non-null  object             \n",
      " 8   Negative   38087 non-null  float32            \n",
      " 9   Netural    38087 non-null  float32            \n",
      " 10  Positive   38087 non-null  float32            \n",
      "dtypes: datetime64[ns, UTC](1), float32(3), float64(3), object(4)\n",
      "memory usage: 3.1+ MB\n"
     ]
    }
   ],
   "source": [
    "df2.info()"
   ]
  },
  {
   "cell_type": "code",
   "execution_count": 118,
   "metadata": {},
   "outputs": [],
   "source": [
    "tweet_mean = df2.groupby('date').mean()"
   ]
  },
  {
   "cell_type": "code",
   "execution_count": 103,
   "metadata": {},
   "outputs": [],
   "source": [
    "tweet_mean = pd.concat([tweet_mean, btc_data.Close], axis=1)"
   ]
  },
  {
   "cell_type": "code",
   "execution_count": 82,
   "metadata": {},
   "outputs": [],
   "source": [
    "btc_data = pd.read_csv(\"BTC-USD.csv\")"
   ]
  },
  {
   "cell_type": "code",
   "execution_count": 117,
   "metadata": {},
   "outputs": [
    {
     "data": {
      "application/vnd.plotly.v1+json": {
       "config": {
        "plotlyServerURL": "https://plot.ly"
       },
       "data": [
        {
         "mode": "lines",
         "name": "BTC Close",
         "type": "scatter",
         "x": [
          "2018-01-01",
          "2018-01-02",
          "2018-01-03",
          "2018-01-04",
          "2018-01-05",
          "2018-01-06",
          "2018-01-07",
          "2018-01-08",
          "2018-01-09",
          "2018-01-10",
          "2018-01-11",
          "2018-01-12",
          "2018-01-13",
          "2018-01-14",
          "2018-01-15",
          "2018-01-16",
          "2018-01-17",
          "2018-01-18",
          "2018-01-19",
          "2018-01-20",
          "2018-01-21",
          "2018-01-22",
          "2018-01-23",
          "2018-01-24",
          "2018-01-25",
          "2018-01-26",
          "2018-01-27",
          "2018-01-28",
          "2018-01-29",
          "2018-01-30",
          "2018-01-31"
         ],
         "xaxis": "x",
         "y": [
          13657.200195,
          14982.099609,
          15201,
          15599.200195,
          17429.5,
          17527,
          16477.599609,
          15170.099609,
          14595.400391,
          14973.299805,
          13405.799805,
          13980.599609,
          14360.200195,
          13772,
          13819.799805,
          11490.5,
          11188.599609,
          11474.900391,
          11607.400391,
          12899.200195,
          11600.099609,
          10931.400391,
          10868.400391,
          11359.400391,
          11259.400391,
          11171.400391,
          11440.700195,
          11786.299805,
          11296.400391,
          10106.299805,
          10221.099609
         ],
         "yaxis": "y"
        },
        {
         "marker": {
          "color": "green"
         },
         "mode": "markers",
         "name": "Positive Sentiment",
         "type": "scatter",
         "x": [
          "2018-01-01",
          "2018-01-02",
          "2018-01-03",
          "2018-01-04",
          "2018-01-05",
          "2018-01-06",
          "2018-01-07",
          "2018-01-08",
          "2018-01-09",
          "2018-01-10",
          "2018-01-11",
          "2018-01-12",
          "2018-01-13",
          "2018-01-14",
          "2018-01-15",
          "2018-01-16",
          "2018-01-17",
          "2018-01-18",
          "2018-01-19",
          "2018-01-20",
          "2018-01-21",
          "2018-01-22",
          "2018-01-23",
          "2018-01-24",
          "2018-01-25",
          "2018-01-26",
          "2018-01-27",
          "2018-01-28",
          "2018-01-29",
          "2018-01-30",
          "2018-01-31"
         ],
         "xaxis": "x2",
         "y": [
          135.3849334716797,
          121.55935668945312,
          124.1783447265625,
          121.37415313720703,
          155.85977172851562,
          141.61318969726562,
          142.89553833007812,
          146.57215881347656,
          143.38494873046875,
          149.9016571044922,
          139.20616149902344,
          134.01060485839844,
          134.10281372070312,
          128.59481811523438,
          151.30609130859375,
          166.40164184570312,
          174.24069213867188,
          206.42205810546875,
          169.14535522460938,
          167.0758514404297,
          147.783935546875,
          170.35556030273438,
          154.9308624267578,
          148.4033966064453,
          138.1625518798828,
          156.2119140625,
          154.07174682617188,
          162.33642578125,
          175.6667938232422,
          136.151123046875,
          138.35289001464844
         ],
         "yaxis": "y2"
        },
        {
         "marker": {
          "color": "orange"
         },
         "mode": "markers",
         "name": "Netural Sentiment",
         "type": "scatter",
         "x": [
          "2018-01-01",
          "2018-01-02",
          "2018-01-03",
          "2018-01-04",
          "2018-01-05",
          "2018-01-06",
          "2018-01-07",
          "2018-01-08",
          "2018-01-09",
          "2018-01-10",
          "2018-01-11",
          "2018-01-12",
          "2018-01-13",
          "2018-01-14",
          "2018-01-15",
          "2018-01-16",
          "2018-01-17",
          "2018-01-18",
          "2018-01-19",
          "2018-01-20",
          "2018-01-21",
          "2018-01-22",
          "2018-01-23",
          "2018-01-24",
          "2018-01-25",
          "2018-01-26",
          "2018-01-27",
          "2018-01-28",
          "2018-01-29",
          "2018-01-30",
          "2018-01-31"
         ],
         "xaxis": "x2",
         "y": [
          914.9733276367188,
          849.3478393554688,
          820.1593627929688,
          814.5244140625,
          922.958740234375,
          824.0660400390625,
          843.3591918945312,
          926.0908813476562,
          873.2269897460938,
          841.3681640625,
          849.15283203125,
          926.0382690429688,
          873.8153686523438,
          772.7918090820312,
          1001.7195434570312,
          997.2220458984375,
          1035.475830078125,
          1189.042236328125,
          1024.3604736328125,
          993.2994995117188,
          922.9793090820312,
          1015.8670654296875,
          922.7825317382812,
          899.0489501953125,
          821.909423828125,
          939.8330688476562,
          882.3871459960938,
          939.3026123046875,
          951.1394653320312,
          851.696533203125,
          850.21630859375
         ],
         "yaxis": "y2"
        },
        {
         "marker": {
          "color": "red"
         },
         "mode": "markers",
         "name": "Negative Sentiment",
         "type": "scatter",
         "x": [
          "2018-01-01",
          "2018-01-02",
          "2018-01-03",
          "2018-01-04",
          "2018-01-05",
          "2018-01-06",
          "2018-01-07",
          "2018-01-08",
          "2018-01-09",
          "2018-01-10",
          "2018-01-11",
          "2018-01-12",
          "2018-01-13",
          "2018-01-14",
          "2018-01-15",
          "2018-01-16",
          "2018-01-17",
          "2018-01-18",
          "2018-01-19",
          "2018-01-20",
          "2018-01-21",
          "2018-01-22",
          "2018-01-23",
          "2018-01-24",
          "2018-01-25",
          "2018-01-26",
          "2018-01-27",
          "2018-01-28",
          "2018-01-29",
          "2018-01-30",
          "2018-01-31"
         ],
         "xaxis": "x2",
         "y": [
          214.6417236328125,
          178.09278869628906,
          167.6622772216797,
          148.1014404296875,
          162.18148803710938,
          155.3207550048828,
          153.7452392578125,
          164.3369598388672,
          163.38804626464844,
          156.7301788330078,
          146.64100646972656,
          161.95111083984375,
          155.081787109375,
          142.61337280273438,
          174.97438049316406,
          191.37632751464844,
          193.2834930419922,
          212.53565979003906,
          173.49412536621094,
          170.62460327148438,
          157.2367401123047,
          168.7773895263672,
          159.28659057617188,
          162.54763793945312,
          137.92803955078125,
          167.95498657226562,
          158.5410919189453,
          169.36093139648438,
          174.1937255859375,
          161.15235900878906,
          157.43077087402344
         ],
         "yaxis": "y2"
        },
        {
         "mode": "lines",
         "name": "Replies",
         "type": "scatter",
         "x": [
          "2018-01-01",
          "2018-01-02",
          "2018-01-03",
          "2018-01-04",
          "2018-01-05",
          "2018-01-06",
          "2018-01-07",
          "2018-01-08",
          "2018-01-09",
          "2018-01-10",
          "2018-01-11",
          "2018-01-12",
          "2018-01-13",
          "2018-01-14",
          "2018-01-15",
          "2018-01-16",
          "2018-01-17",
          "2018-01-18",
          "2018-01-19",
          "2018-01-20",
          "2018-01-21",
          "2018-01-22",
          "2018-01-23",
          "2018-01-24",
          "2018-01-25",
          "2018-01-26",
          "2018-01-27",
          "2018-01-28",
          "2018-01-29",
          "2018-01-30",
          "2018-01-31"
         ],
         "xaxis": "x3",
         "y": [
          250,
          763,
          877,
          608,
          1556,
          719,
          2079,
          1241,
          1298,
          1901,
          2008,
          721,
          858,
          676,
          4326,
          2561,
          1545,
          3515,
          1641,
          680,
          1810,
          3895,
          1364,
          3995,
          1565,
          784,
          473,
          1314,
          1513,
          3310,
          2811
         ],
         "yaxis": "y3"
        },
        {
         "mode": "lines",
         "name": "Likes",
         "type": "scatter",
         "x": [
          "2018-01-01",
          "2018-01-02",
          "2018-01-03",
          "2018-01-04",
          "2018-01-05",
          "2018-01-06",
          "2018-01-07",
          "2018-01-08",
          "2018-01-09",
          "2018-01-10",
          "2018-01-11",
          "2018-01-12",
          "2018-01-13",
          "2018-01-14",
          "2018-01-15",
          "2018-01-16",
          "2018-01-17",
          "2018-01-18",
          "2018-01-19",
          "2018-01-20",
          "2018-01-21",
          "2018-01-22",
          "2018-01-23",
          "2018-01-24",
          "2018-01-25",
          "2018-01-26",
          "2018-01-27",
          "2018-01-28",
          "2018-01-29",
          "2018-01-30",
          "2018-01-31"
         ],
         "xaxis": "x3",
         "y": [
          1814,
          7560,
          14363,
          6840,
          7475,
          6745,
          45213,
          7245,
          17356,
          37001,
          23018,
          3991,
          3829,
          5198,
          15443,
          157317,
          22558,
          39616,
          5278,
          12914,
          12120,
          25564,
          10127,
          319116,
          22893,
          9693,
          3774,
          15156,
          5497,
          16457,
          18449
         ],
         "yaxis": "y3"
        },
        {
         "mode": "lines",
         "name": "Retweets",
         "type": "scatter",
         "x": [
          "2018-01-01",
          "2018-01-02",
          "2018-01-03",
          "2018-01-04",
          "2018-01-05",
          "2018-01-06",
          "2018-01-07",
          "2018-01-08",
          "2018-01-09",
          "2018-01-10",
          "2018-01-11",
          "2018-01-12",
          "2018-01-13",
          "2018-01-14",
          "2018-01-15",
          "2018-01-16",
          "2018-01-17",
          "2018-01-18",
          "2018-01-19",
          "2018-01-20",
          "2018-01-21",
          "2018-01-22",
          "2018-01-23",
          "2018-01-24",
          "2018-01-25",
          "2018-01-26",
          "2018-01-27",
          "2018-01-28",
          "2018-01-29",
          "2018-01-30",
          "2018-01-31"
         ],
         "xaxis": "x3",
         "y": [
          1306,
          9123,
          13594,
          2876,
          4393,
          3221,
          10360,
          4287,
          7762,
          19071,
          10220,
          1793,
          1783,
          2344,
          7270,
          53654,
          8847,
          26610,
          3084,
          5763,
          22516,
          18799,
          4570,
          77458,
          10508,
          3261,
          1247,
          5795,
          3554,
          9727,
          8378
         ],
         "yaxis": "y3"
        }
       ],
       "layout": {
        "height": 800,
        "showlegend": true,
        "template": {
         "data": {
          "bar": [
           {
            "error_x": {
             "color": "#2a3f5f"
            },
            "error_y": {
             "color": "#2a3f5f"
            },
            "marker": {
             "line": {
              "color": "#E5ECF6",
              "width": 0.5
             },
             "pattern": {
              "fillmode": "overlay",
              "size": 10,
              "solidity": 0.2
             }
            },
            "type": "bar"
           }
          ],
          "barpolar": [
           {
            "marker": {
             "line": {
              "color": "#E5ECF6",
              "width": 0.5
             },
             "pattern": {
              "fillmode": "overlay",
              "size": 10,
              "solidity": 0.2
             }
            },
            "type": "barpolar"
           }
          ],
          "carpet": [
           {
            "aaxis": {
             "endlinecolor": "#2a3f5f",
             "gridcolor": "white",
             "linecolor": "white",
             "minorgridcolor": "white",
             "startlinecolor": "#2a3f5f"
            },
            "baxis": {
             "endlinecolor": "#2a3f5f",
             "gridcolor": "white",
             "linecolor": "white",
             "minorgridcolor": "white",
             "startlinecolor": "#2a3f5f"
            },
            "type": "carpet"
           }
          ],
          "choropleth": [
           {
            "colorbar": {
             "outlinewidth": 0,
             "ticks": ""
            },
            "type": "choropleth"
           }
          ],
          "contour": [
           {
            "colorbar": {
             "outlinewidth": 0,
             "ticks": ""
            },
            "colorscale": [
             [
              0,
              "#0d0887"
             ],
             [
              0.1111111111111111,
              "#46039f"
             ],
             [
              0.2222222222222222,
              "#7201a8"
             ],
             [
              0.3333333333333333,
              "#9c179e"
             ],
             [
              0.4444444444444444,
              "#bd3786"
             ],
             [
              0.5555555555555556,
              "#d8576b"
             ],
             [
              0.6666666666666666,
              "#ed7953"
             ],
             [
              0.7777777777777778,
              "#fb9f3a"
             ],
             [
              0.8888888888888888,
              "#fdca26"
             ],
             [
              1,
              "#f0f921"
             ]
            ],
            "type": "contour"
           }
          ],
          "contourcarpet": [
           {
            "colorbar": {
             "outlinewidth": 0,
             "ticks": ""
            },
            "type": "contourcarpet"
           }
          ],
          "heatmap": [
           {
            "colorbar": {
             "outlinewidth": 0,
             "ticks": ""
            },
            "colorscale": [
             [
              0,
              "#0d0887"
             ],
             [
              0.1111111111111111,
              "#46039f"
             ],
             [
              0.2222222222222222,
              "#7201a8"
             ],
             [
              0.3333333333333333,
              "#9c179e"
             ],
             [
              0.4444444444444444,
              "#bd3786"
             ],
             [
              0.5555555555555556,
              "#d8576b"
             ],
             [
              0.6666666666666666,
              "#ed7953"
             ],
             [
              0.7777777777777778,
              "#fb9f3a"
             ],
             [
              0.8888888888888888,
              "#fdca26"
             ],
             [
              1,
              "#f0f921"
             ]
            ],
            "type": "heatmap"
           }
          ],
          "heatmapgl": [
           {
            "colorbar": {
             "outlinewidth": 0,
             "ticks": ""
            },
            "colorscale": [
             [
              0,
              "#0d0887"
             ],
             [
              0.1111111111111111,
              "#46039f"
             ],
             [
              0.2222222222222222,
              "#7201a8"
             ],
             [
              0.3333333333333333,
              "#9c179e"
             ],
             [
              0.4444444444444444,
              "#bd3786"
             ],
             [
              0.5555555555555556,
              "#d8576b"
             ],
             [
              0.6666666666666666,
              "#ed7953"
             ],
             [
              0.7777777777777778,
              "#fb9f3a"
             ],
             [
              0.8888888888888888,
              "#fdca26"
             ],
             [
              1,
              "#f0f921"
             ]
            ],
            "type": "heatmapgl"
           }
          ],
          "histogram": [
           {
            "marker": {
             "pattern": {
              "fillmode": "overlay",
              "size": 10,
              "solidity": 0.2
             }
            },
            "type": "histogram"
           }
          ],
          "histogram2d": [
           {
            "colorbar": {
             "outlinewidth": 0,
             "ticks": ""
            },
            "colorscale": [
             [
              0,
              "#0d0887"
             ],
             [
              0.1111111111111111,
              "#46039f"
             ],
             [
              0.2222222222222222,
              "#7201a8"
             ],
             [
              0.3333333333333333,
              "#9c179e"
             ],
             [
              0.4444444444444444,
              "#bd3786"
             ],
             [
              0.5555555555555556,
              "#d8576b"
             ],
             [
              0.6666666666666666,
              "#ed7953"
             ],
             [
              0.7777777777777778,
              "#fb9f3a"
             ],
             [
              0.8888888888888888,
              "#fdca26"
             ],
             [
              1,
              "#f0f921"
             ]
            ],
            "type": "histogram2d"
           }
          ],
          "histogram2dcontour": [
           {
            "colorbar": {
             "outlinewidth": 0,
             "ticks": ""
            },
            "colorscale": [
             [
              0,
              "#0d0887"
             ],
             [
              0.1111111111111111,
              "#46039f"
             ],
             [
              0.2222222222222222,
              "#7201a8"
             ],
             [
              0.3333333333333333,
              "#9c179e"
             ],
             [
              0.4444444444444444,
              "#bd3786"
             ],
             [
              0.5555555555555556,
              "#d8576b"
             ],
             [
              0.6666666666666666,
              "#ed7953"
             ],
             [
              0.7777777777777778,
              "#fb9f3a"
             ],
             [
              0.8888888888888888,
              "#fdca26"
             ],
             [
              1,
              "#f0f921"
             ]
            ],
            "type": "histogram2dcontour"
           }
          ],
          "mesh3d": [
           {
            "colorbar": {
             "outlinewidth": 0,
             "ticks": ""
            },
            "type": "mesh3d"
           }
          ],
          "parcoords": [
           {
            "line": {
             "colorbar": {
              "outlinewidth": 0,
              "ticks": ""
             }
            },
            "type": "parcoords"
           }
          ],
          "pie": [
           {
            "automargin": true,
            "type": "pie"
           }
          ],
          "scatter": [
           {
            "marker": {
             "colorbar": {
              "outlinewidth": 0,
              "ticks": ""
             }
            },
            "type": "scatter"
           }
          ],
          "scatter3d": [
           {
            "line": {
             "colorbar": {
              "outlinewidth": 0,
              "ticks": ""
             }
            },
            "marker": {
             "colorbar": {
              "outlinewidth": 0,
              "ticks": ""
             }
            },
            "type": "scatter3d"
           }
          ],
          "scattercarpet": [
           {
            "marker": {
             "colorbar": {
              "outlinewidth": 0,
              "ticks": ""
             }
            },
            "type": "scattercarpet"
           }
          ],
          "scattergeo": [
           {
            "marker": {
             "colorbar": {
              "outlinewidth": 0,
              "ticks": ""
             }
            },
            "type": "scattergeo"
           }
          ],
          "scattergl": [
           {
            "marker": {
             "colorbar": {
              "outlinewidth": 0,
              "ticks": ""
             }
            },
            "type": "scattergl"
           }
          ],
          "scattermapbox": [
           {
            "marker": {
             "colorbar": {
              "outlinewidth": 0,
              "ticks": ""
             }
            },
            "type": "scattermapbox"
           }
          ],
          "scatterpolar": [
           {
            "marker": {
             "colorbar": {
              "outlinewidth": 0,
              "ticks": ""
             }
            },
            "type": "scatterpolar"
           }
          ],
          "scatterpolargl": [
           {
            "marker": {
             "colorbar": {
              "outlinewidth": 0,
              "ticks": ""
             }
            },
            "type": "scatterpolargl"
           }
          ],
          "scatterternary": [
           {
            "marker": {
             "colorbar": {
              "outlinewidth": 0,
              "ticks": ""
             }
            },
            "type": "scatterternary"
           }
          ],
          "surface": [
           {
            "colorbar": {
             "outlinewidth": 0,
             "ticks": ""
            },
            "colorscale": [
             [
              0,
              "#0d0887"
             ],
             [
              0.1111111111111111,
              "#46039f"
             ],
             [
              0.2222222222222222,
              "#7201a8"
             ],
             [
              0.3333333333333333,
              "#9c179e"
             ],
             [
              0.4444444444444444,
              "#bd3786"
             ],
             [
              0.5555555555555556,
              "#d8576b"
             ],
             [
              0.6666666666666666,
              "#ed7953"
             ],
             [
              0.7777777777777778,
              "#fb9f3a"
             ],
             [
              0.8888888888888888,
              "#fdca26"
             ],
             [
              1,
              "#f0f921"
             ]
            ],
            "type": "surface"
           }
          ],
          "table": [
           {
            "cells": {
             "fill": {
              "color": "#EBF0F8"
             },
             "line": {
              "color": "white"
             }
            },
            "header": {
             "fill": {
              "color": "#C8D4E3"
             },
             "line": {
              "color": "white"
             }
            },
            "type": "table"
           }
          ]
         },
         "layout": {
          "annotationdefaults": {
           "arrowcolor": "#2a3f5f",
           "arrowhead": 0,
           "arrowwidth": 1
          },
          "autotypenumbers": "strict",
          "coloraxis": {
           "colorbar": {
            "outlinewidth": 0,
            "ticks": ""
           }
          },
          "colorscale": {
           "diverging": [
            [
             0,
             "#8e0152"
            ],
            [
             0.1,
             "#c51b7d"
            ],
            [
             0.2,
             "#de77ae"
            ],
            [
             0.3,
             "#f1b6da"
            ],
            [
             0.4,
             "#fde0ef"
            ],
            [
             0.5,
             "#f7f7f7"
            ],
            [
             0.6,
             "#e6f5d0"
            ],
            [
             0.7,
             "#b8e186"
            ],
            [
             0.8,
             "#7fbc41"
            ],
            [
             0.9,
             "#4d9221"
            ],
            [
             1,
             "#276419"
            ]
           ],
           "sequential": [
            [
             0,
             "#0d0887"
            ],
            [
             0.1111111111111111,
             "#46039f"
            ],
            [
             0.2222222222222222,
             "#7201a8"
            ],
            [
             0.3333333333333333,
             "#9c179e"
            ],
            [
             0.4444444444444444,
             "#bd3786"
            ],
            [
             0.5555555555555556,
             "#d8576b"
            ],
            [
             0.6666666666666666,
             "#ed7953"
            ],
            [
             0.7777777777777778,
             "#fb9f3a"
            ],
            [
             0.8888888888888888,
             "#fdca26"
            ],
            [
             1,
             "#f0f921"
            ]
           ],
           "sequentialminus": [
            [
             0,
             "#0d0887"
            ],
            [
             0.1111111111111111,
             "#46039f"
            ],
            [
             0.2222222222222222,
             "#7201a8"
            ],
            [
             0.3333333333333333,
             "#9c179e"
            ],
            [
             0.4444444444444444,
             "#bd3786"
            ],
            [
             0.5555555555555556,
             "#d8576b"
            ],
            [
             0.6666666666666666,
             "#ed7953"
            ],
            [
             0.7777777777777778,
             "#fb9f3a"
            ],
            [
             0.8888888888888888,
             "#fdca26"
            ],
            [
             1,
             "#f0f921"
            ]
           ]
          },
          "colorway": [
           "#636efa",
           "#EF553B",
           "#00cc96",
           "#ab63fa",
           "#FFA15A",
           "#19d3f3",
           "#FF6692",
           "#B6E880",
           "#FF97FF",
           "#FECB52"
          ],
          "font": {
           "color": "#2a3f5f"
          },
          "geo": {
           "bgcolor": "white",
           "lakecolor": "white",
           "landcolor": "#E5ECF6",
           "showlakes": true,
           "showland": true,
           "subunitcolor": "white"
          },
          "hoverlabel": {
           "align": "left"
          },
          "hovermode": "closest",
          "mapbox": {
           "style": "light"
          },
          "paper_bgcolor": "white",
          "plot_bgcolor": "#E5ECF6",
          "polar": {
           "angularaxis": {
            "gridcolor": "white",
            "linecolor": "white",
            "ticks": ""
           },
           "bgcolor": "#E5ECF6",
           "radialaxis": {
            "gridcolor": "white",
            "linecolor": "white",
            "ticks": ""
           }
          },
          "scene": {
           "xaxis": {
            "backgroundcolor": "#E5ECF6",
            "gridcolor": "white",
            "gridwidth": 2,
            "linecolor": "white",
            "showbackground": true,
            "ticks": "",
            "zerolinecolor": "white"
           },
           "yaxis": {
            "backgroundcolor": "#E5ECF6",
            "gridcolor": "white",
            "gridwidth": 2,
            "linecolor": "white",
            "showbackground": true,
            "ticks": "",
            "zerolinecolor": "white"
           },
           "zaxis": {
            "backgroundcolor": "#E5ECF6",
            "gridcolor": "white",
            "gridwidth": 2,
            "linecolor": "white",
            "showbackground": true,
            "ticks": "",
            "zerolinecolor": "white"
           }
          },
          "shapedefaults": {
           "line": {
            "color": "#2a3f5f"
           }
          },
          "ternary": {
           "aaxis": {
            "gridcolor": "white",
            "linecolor": "white",
            "ticks": ""
           },
           "baxis": {
            "gridcolor": "white",
            "linecolor": "white",
            "ticks": ""
           },
           "bgcolor": "#E5ECF6",
           "caxis": {
            "gridcolor": "white",
            "linecolor": "white",
            "ticks": ""
           }
          },
          "title": {
           "x": 0.05
          },
          "xaxis": {
           "automargin": true,
           "gridcolor": "white",
           "linecolor": "white",
           "ticks": "",
           "title": {
            "standoff": 15
           },
           "zerolinecolor": "white",
           "zerolinewidth": 2
          },
          "yaxis": {
           "automargin": true,
           "gridcolor": "white",
           "linecolor": "white",
           "ticks": "",
           "title": {
            "standoff": 15
           },
           "zerolinecolor": "white",
           "zerolinewidth": 2
          }
         }
        },
        "title": {
         "text": "BTC Close price and tweets mean sentiment"
        },
        "xaxis": {
         "anchor": "y",
         "domain": [
          0,
          1
         ],
         "matches": "x3",
         "showticklabels": false
        },
        "xaxis2": {
         "anchor": "y2",
         "domain": [
          0,
          1
         ],
         "matches": "x3",
         "showticklabels": false
        },
        "xaxis3": {
         "anchor": "y3",
         "domain": [
          0,
          1
         ]
        },
        "yaxis": {
         "anchor": "x",
         "domain": [
          0.6866666666666665,
          0.9999999999999998
         ]
        },
        "yaxis2": {
         "anchor": "x2",
         "domain": [
          0.34333333333333327,
          0.6566666666666665
         ]
        },
        "yaxis3": {
         "anchor": "x3",
         "domain": [
          0,
          0.3133333333333333
         ]
        }
       }
      }
     },
     "metadata": {},
     "output_type": "display_data"
    }
   ],
   "source": [
    "import plotly.graph_objects as go\n",
    "from plotly.subplots import make_subplots\n",
    "\n",
    "fig = make_subplots(\n",
    "    rows=3, cols=1,\n",
    "    shared_xaxes=True,\n",
    "    vertical_spacing=0.03,\n",
    "    specs=[[{\"type\": \"scatter\"}],\n",
    "           [{\"type\": \"scatter\"}],[{\"type\": \"scatter\"}]]\n",
    ")\n",
    "\n",
    "fig.add_trace(\n",
    "    go.Scatter(\n",
    "        x=btc_data.Date,\n",
    "        y=btc_data.Close,\n",
    "        mode=\"lines\",\n",
    "        name=\"BTC Close\"\n",
    "    ),\n",
    "    row=1, col=1\n",
    ")\n",
    "\n",
    "fig.add_trace(\n",
    "    go.Scatter(\n",
    "        x=btc_data.Date,\n",
    "        y=tweet_mean.Positive,\n",
    "        mode=\"markers\",\n",
    "        marker=dict(color='green'),\n",
    "\n",
    "        name=\"Positive Sentiment\"\n",
    "\n",
    "    ),\n",
    "    row=2, col=1\n",
    ")\n",
    "fig.add_trace(\n",
    "    go.Scatter(\n",
    "        x=btc_data.Date,\n",
    "        y=tweet_mean.Netural,\n",
    "        mode=\"markers\",\n",
    "        marker=dict(color='orange'),\n",
    "\n",
    "        name=\"Netural Sentiment\"\n",
    "\n",
    "    ),\n",
    "    row=2, col=1\n",
    ")\n",
    "fig.add_trace(\n",
    "    go.Scatter(\n",
    "        x=btc_data.Date,\n",
    "        y=tweet_mean.Negative,\n",
    "        mode=\"markers\",\n",
    "        marker=dict(color='red'),\n",
    "\n",
    "        name=\"Negative Sentiment\"\n",
    "\n",
    "    ),\n",
    "    row=2, col=1\n",
    ")\n",
    "fig.add_trace(\n",
    "    go.Scatter(\n",
    "        x=btc_data.Date,\n",
    "        y=tweet_mean.replies,\n",
    "        mode=\"lines\",\n",
    "\n",
    "        name=\"Replies\"\n",
    "\n",
    "    ),\n",
    "    row=3, col=1\n",
    ")\n",
    "fig.add_trace(\n",
    "    go.Scatter(\n",
    "        x=btc_data.Date,\n",
    "        y=tweet_mean.likes,\n",
    "        mode=\"lines\",\n",
    "\n",
    "        name=\"Likes\"\n",
    "\n",
    "    ),\n",
    "    row=3, col=1\n",
    ")\n",
    "fig.add_trace(\n",
    "    go.Scatter(\n",
    "        x=btc_data.Date,\n",
    "        y=tweet_mean.retweets,\n",
    "        mode=\"lines\",\n",
    "\n",
    "        name=\"Retweets\"\n",
    "\n",
    "    ),\n",
    "    row=3, col=1\n",
    ")\n",
    "\n",
    "fig.update_layout(\n",
    "    height=800,\n",
    "    showlegend=True,\n",
    "    title_text=\"BTC Close price and tweets mean sentiment\",\n",
    "    \n",
    ")\n",
    "\n",
    "fig.show()\n"
   ]
  },
  {
   "cell_type": "code",
   "execution_count": 97,
   "metadata": {},
   "outputs": [
    {
     "name": "stdout",
     "output_type": "stream",
     "text": [
      "[[4.53067080e+06 4.83893525e+00]\n",
      " [4.83893525e+00 8.14910907e-05]]\n"
     ]
    }
   ],
   "source": [
    "covariance = np.cov(btc_data.Close, tweet_mean.Negative)\n",
    "print(covariance)"
   ]
  },
  {
   "cell_type": "code",
   "execution_count": 98,
   "metadata": {},
   "outputs": [
    {
     "name": "stdout",
     "output_type": "stream",
     "text": [
      "Spearmans correlation: 0.253\n"
     ]
    }
   ],
   "source": [
    "from scipy.stats import spearmanr\n",
    "corr, _ = spearmanr(btc_data.Close, tweet_mean.Negative)\n",
    "print('Spearmans correlation: %.3f' % corr)"
   ]
  },
  {
   "cell_type": "code",
   "execution_count": 101,
   "metadata": {},
   "outputs": [
    {
     "name": "stdout",
     "output_type": "stream",
     "text": [
      "Pearsons correlation: 0.252\n"
     ]
    }
   ],
   "source": [
    "from scipy.stats import pearsonr\n",
    "corr, _ = pearsonr(btc_data.Close,tweet_mean.Negative)\n",
    "print('Pearsons correlation: %.3f' % corr)"
   ]
  },
  {
   "cell_type": "code",
   "execution_count": 126,
   "metadata": {},
   "outputs": [
    {
     "name": "stdout",
     "output_type": "stream",
     "text": [
      "[[ 4.53067080e+06 -4.24696050e+00]\n",
      " [-4.24696050e+00  4.83705575e-05]]\n"
     ]
    }
   ],
   "source": [
    "covariance = np.cov(btc_data.Close, tweet_mean.Positive)\n",
    "print(covariance)"
   ]
  },
  {
   "cell_type": "code",
   "execution_count": 125,
   "metadata": {},
   "outputs": [
    {
     "name": "stdout",
     "output_type": "stream",
     "text": [
      "Spearmans correlation: -0.240\n"
     ]
    }
   ],
   "source": [
    "from scipy.stats import spearmanr\n",
    "corr, _ = spearmanr(btc_data.Close, tweet_mean.Positive)\n",
    "print('Spearmans correlation: %.3f' % corr)"
   ]
  },
  {
   "cell_type": "code",
   "execution_count": 124,
   "metadata": {},
   "outputs": [
    {
     "name": "stdout",
     "output_type": "stream",
     "text": [
      "Pearsons correlation: -0.287\n"
     ]
    }
   ],
   "source": [
    "from scipy.stats import pearsonr\n",
    "corr, _ = pearsonr(btc_data.Close,tweet_mean.Positive)\n",
    "print('Pearsons correlation: %.3f' % corr)"
   ]
  },
  {
   "cell_type": "code",
   "execution_count": 129,
   "metadata": {},
   "outputs": [
    {
     "name": "stdout",
     "output_type": "stream",
     "text": [
      "[[ 4.53067080e+06 -5.91969053e-01]\n",
      " [-5.91969053e-01  5.49586284e-05]]\n"
     ]
    }
   ],
   "source": [
    "covariance = np.cov(btc_data.Close, tweet_mean.Netural)\n",
    "print(covariance)"
   ]
  },
  {
   "cell_type": "code",
   "execution_count": 130,
   "metadata": {},
   "outputs": [
    {
     "name": "stdout",
     "output_type": "stream",
     "text": [
      "Spearmans correlation: -0.027\n"
     ]
    }
   ],
   "source": [
    "from scipy.stats import spearmanr\n",
    "corr, _ = spearmanr(btc_data.Close, tweet_mean.Netural)\n",
    "print('Spearmans correlation: %.3f' % corr)"
   ]
  },
  {
   "cell_type": "code",
   "execution_count": 131,
   "metadata": {},
   "outputs": [
    {
     "name": "stdout",
     "output_type": "stream",
     "text": [
      "Pearsons correlation: -0.038\n"
     ]
    }
   ],
   "source": [
    "from scipy.stats import pearsonr\n",
    "corr, _ = pearsonr(btc_data.Close,tweet_mean.Netural)\n",
    "print('Pearsons correlation: %.3f' % corr)"
   ]
  }
 ],
 "metadata": {
  "interpreter": {
   "hash": "b3ba2566441a7c06988d0923437866b63cedc61552a5af99d1f4fb67d367b25f"
  },
  "kernelspec": {
   "display_name": "Python 3.8.12 64-bit ('base': conda)",
   "language": "python",
   "name": "python3"
  },
  "language_info": {
   "codemirror_mode": {
    "name": "ipython",
    "version": 3
   },
   "file_extension": ".py",
   "mimetype": "text/x-python",
   "name": "python",
   "nbconvert_exporter": "python",
   "pygments_lexer": "ipython3",
   "version": "3.8.12"
  },
  "orig_nbformat": 4
 },
 "nbformat": 4,
 "nbformat_minor": 2
}
